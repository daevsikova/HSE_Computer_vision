{
  "nbformat": 4,
  "nbformat_minor": 0,
  "metadata": {
    "kernelspec": {
      "display_name": "Python 3",
      "language": "python",
      "name": "python3"
    },
    "language_info": {
      "codemirror_mode": {
        "name": "ipython",
        "version": 3
      },
      "file_extension": ".py",
      "mimetype": "text/x-python",
      "name": "python",
      "nbconvert_exporter": "python",
      "pygments_lexer": "ipython3",
      "version": "3.7.1"
    },
    "colab": {
      "name": "homework3.ipynb",
      "provenance": []
    }
  },
  "cells": [
    {
      "cell_type": "markdown",
      "metadata": {
        "id": "j1ernp6KYPLd"
      },
      "source": [
        "# Домашнее задание №3\n",
        "\n",
        "Задание присылать на обе почты почты aleksartamonov@gmail.com dashkov.alexander.om@gmail.com в виде ссылки на colab\n",
        "\n",
        "В теме письма указать **CV_HSE_2021 HW3 <Фамилия Имя>**\n",
        "\n",
        "soft deadline: 21.03.2021T23:59:00+0300\n",
        "\n",
        "hard deadline: 28.03.2021T23:59:00+0300\n"
      ]
    },
    {
      "cell_type": "markdown",
      "metadata": {
        "id": "OrUQtR5BYPLf"
      },
      "source": [
        "## Legacy классификация"
      ]
    },
    {
      "cell_type": "markdown",
      "metadata": {
        "id": "JAfWfm9gYPLf"
      },
      "source": [
        "**Задане 1 (10 баллов)**\n",
        "\n",
        "Реализуйте функцию, которая строит банк фильтров Габора.\n",
        "Реализуйте интерактивный инструмент, в котором с помощью 2-х ползунков, один из которых отвечает за угол, другой за масштаб для фильтров из банка, можно выбрать конкретный фильтр и на экране отобразятся:\n",
        "- Фильтр в пространственной области\n",
        "- Фильтр в частотном пространстве\n",
        "- Результат применения этого фильтра к какому-нибудь изображению."
      ]
    },
    {
      "cell_type": "code",
      "metadata": {
        "id": "xHgncRExYPLg"
      },
      "source": [
        "def gabour_bank(size, phi_bins, scale_bins, max_scale, min_scale, ):\n",
        "    \"\"\"\n",
        "    Parameters:\n",
        "    size (tuple|int): Size or radius of filters.\n",
        "    phi_bins (int): Number of angle beens of bank\n",
        "    scale_bins (int): Number of scales betwwen max_scale and min_scale\n",
        "    max_scale (float): Max frequency covered by bank\n",
        "    min_scale (float): Min frequency covered by bank\n",
        "    Returns:\n",
        "    list: a list of filters\n",
        "    \"\"\"\n",
        "    pass"
      ],
      "execution_count": null,
      "outputs": []
    },
    {
      "cell_type": "markdown",
      "metadata": {
        "id": "eDZrRgR5YPLg"
      },
      "source": [
        "**Задание 2 (15 баллов)** \n",
        "\n",
        "Постройте мешок визульных слов на основе SIFT дескртипторов для датасета из третьего задания. Для этого для каждой картинки примените функцию, которая извлекает sift keypoints с дексрипторами, для каждой картинки ограничьтесь, например, сотней. Проведите кластеризацию на N(~30) классов, для каждого кластра отбразите в ряду 5 ближайших к нему участков изображений, в соответствии с масштабом keypoint-а. отобразите N таких строк."
      ]
    },
    {
      "cell_type": "markdown",
      "metadata": {
        "id": "DoDoSmAwYPLh"
      },
      "source": [
        "**Задание 3 (20 баллов)**\n",
        "\n",
        "[КОНКУРС](https://youtu.be/8GGWedu77SA?t=3388)\n",
        "\n",
        "В этом задании вам придется проявить изобретательность. Используйте банки фильтов, мешки визуальных слов и гистрограммы для достижения максимального скора. [Настоящая ссылка на конкурс](https://www.kaggle.com/t/65dc3b38e1194d488ab276752fd1e92d). В этом задании баллы будут распределяться согласно тому, как далеко вы продвинулись на лидерборде. **Важное условие**, весь ваш код положите в этот ноутбук, в нем не должно быть нейросетей =) Только legacy только *hard core*"
      ]
    },
    {
      "cell_type": "code",
      "metadata": {
        "id": "YxqDBAurYPLh"
      },
      "source": [
        ""
      ],
      "execution_count": null,
      "outputs": []
    }
  ]
}